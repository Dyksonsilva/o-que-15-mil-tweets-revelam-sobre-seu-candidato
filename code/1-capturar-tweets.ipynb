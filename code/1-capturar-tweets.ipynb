{
 "cells": [
  {
   "cell_type": "markdown",
   "metadata": {},
   "source": [
    "# Script que monta base de dados a partir dos tweets de pré-candidatos\n",
    "Esse programa salva os tweets mais recentes - todos que a API do twitter permite acessar - dos pré-candidatos à presidência em arquivos de texto."
   ]
  },
  {
   "cell_type": "code",
   "execution_count": 7,
   "metadata": {
    "collapsed": true
   },
   "outputs": [],
   "source": [
    "import tweepy\n",
    "import pandas as pd\n",
    "import csv\n",
    "import time, datetime"
   ]
  },
  {
   "cell_type": "code",
   "execution_count": 8,
   "metadata": {
    "collapsed": true
   },
   "outputs": [],
   "source": [
    "# Define credenciais de acesso\n",
    "consumer_key = 'THE API KEYS GO HERE'\n",
    "consumer_secret = 'THE API KEYS GO HERE'\n",
    "access_token = 'THE API KEYS GO HERE'\n",
    "access_token_secret = 'THE API KEYS GO HERE'"
   ]
  },
  {
   "cell_type": "code",
   "execution_count": 9,
   "metadata": {
    "collapsed": true
   },
   "outputs": [],
   "source": [
    "# Autentica usando as credenciais definidas acima\n",
    "auth = tweepy.OAuthHandler(consumer_key, consumer_secret)\n",
    "auth.set_access_token(access_token, access_token_secret)\n",
    "\n",
    "api = tweepy.API(auth)"
   ]
  },
  {
   "cell_type": "code",
   "execution_count": 10,
   "metadata": {},
   "outputs": [
    {
     "name": "stdout",
     "output_type": "stream",
     "text": [
      "lulapelobrasil tweets:\n",
      "cirogomes tweets:\n",
      "geraldoalckmin tweets:\n",
      "silva_marina tweets:\n",
      "GuilhermeBoulos tweets:\n",
      "jairbolsonaro tweets:\n",
      "collor tweets:\n",
      "manudeputada tweets:\n",
      "RodrigoMaia tweets:\n",
      "joaoamoedonovo tweets:\n",
      "MichelTemer tweets:\n",
      "alvarodias_ tweets:\n"
     ]
    }
   ],
   "source": [
    "# Baseado em https://gist.github.com/yanofsky/5436496\n",
    "\n",
    "usernames = ['lulapelobrasil', 'cirogomes', 'geraldoalckmin', 'silva_marina', 'GuilhermeBoulos', 'jairbolsonaro',\n",
    "             'collor', 'manudeputada', 'RodrigoMaia', 'joaoamoedonovo', 'MichelTemer', 'alvarodias_', 'Haddad_Fernando',\n",
    "             'jaqueswagner', 'meirelles', 'joaquimboficial']\n",
    "\n",
    "tweets_dict = {}\n",
    "for username in usernames:\n",
    "    print(username, 'tweets:')\n",
    "    \n",
    "    all_tweets = []\n",
    "    new_tweets = api.user_timeline(username, tweet_mode='extended', count=200)\n",
    "    all_tweets.extend(new_tweets)\n",
    "    \n",
    "    # save the id of the oldest tweet less one\n",
    "    oldest = all_tweets[-1].id - 1\n",
    "    #keep grabbing tweets until there are no tweets left to grab\n",
    "    while len(new_tweets) > 0: # len will only be 0 when the recquest returns nothing\n",
    "        #print(\"Getting tweets before\", oldest)\n",
    "\n",
    "        #all subsiquent requests use the max_id param to prevent duplicates\n",
    "        new_tweets = api.user_timeline(username, tweet_mode='extended', count=200, max_id=oldest)\n",
    "\n",
    "        #save most recent tweets\n",
    "        all_tweets.extend(new_tweets)\n",
    "\n",
    "        #update the id of the oldest tweet less one\n",
    "        oldest = all_tweets[-1].id - 1\n",
    "\n",
    "    #transform the tweepy tweets into a 2D array that will populate the csv\t\n",
    "    output = [[tweet.id, tweet.created_at, tweet.created_at.strftime(\"%d-%m-%Y %H:%M:%S\"), tweet.full_text] for tweet in all_tweets]\n",
    "    tweets_dict[username] = output\n",
    "    \n",
    "    # write to csv\n",
    "    with open('../data/bases-completas/' + username + '.csv', 'w') as file:\n",
    "        writer = csv.writer(file)\n",
    "        writer.writerow([\"id\",\"datetime\",\"created_at\",\"text\"])\n",
    "        writer.writerows(output)"
   ]
  },
  {
   "cell_type": "code",
   "execution_count": null,
   "metadata": {
    "collapsed": true
   },
   "outputs": [],
   "source": []
  }
 ],
 "metadata": {
  "kernelspec": {
   "display_name": "Python 3",
   "language": "python",
   "name": "python3"
  },
  "language_info": {
   "codemirror_mode": {
    "name": "ipython",
    "version": 3
   },
   "file_extension": ".py",
   "mimetype": "text/x-python",
   "name": "python",
   "nbconvert_exporter": "python",
   "pygments_lexer": "ipython3",
   "version": "3.6.3"
  }
 },
 "nbformat": 4,
 "nbformat_minor": 2
}
