{
 "cells": [
  {
   "cell_type": "markdown",
   "metadata": {},
   "source": [
    "# Concatena as matrizes de cada candidato em apenas um arquivo\n",
    "Script que lê as diferentes matrizes e concatena todas em um único arquivo."
   ]
  },
  {
   "cell_type": "code",
   "execution_count": 46,
   "metadata": {
    "collapsed": true
   },
   "outputs": [],
   "source": [
    "import glob\n",
    "import pandas as pd\n",
    "import re"
   ]
  },
  {
   "cell_type": "code",
   "execution_count": 47,
   "metadata": {
    "collapsed": true
   },
   "outputs": [],
   "source": [
    "def concatenate(directory):\n",
    "    # Lê os arquivos na pasta\n",
    "    files = glob.glob(directory + '/*.csv')\n",
    "    # Cria um df vazio para adicionar os arquivos dinamicamente\n",
    "    columns = ['word','__sum_candidate','__sum_others',\n",
    "                       '__total_candidate','__total_others',\n",
    "                       '__ratio_candidate', '__ratio_others',\n",
    "                       'more_likely_candidate', 'more_likely_others',\n",
    "                       '__sum_all', '__total_all', '__ratio_all']\n",
    "    df = pd.DataFrame(columns=columns) \n",
    "    \n",
    "    # Adiciona os arquivos ao df criado anteriormente\n",
    "    for file in files:\n",
    "        temp_df = pd.read_csv(file)\n",
    "        temp_df['file'] = file\n",
    "        temp_df['twitter_handle'] = temp_df.file.str.extract('../data/matrix-geral/(\\w+)-matrix.csv')\n",
    "        df = df.append(temp_df)\n",
    "        df = df.reset_index().drop('index', axis=1) # Cria índices únicos\n",
    "        \n",
    "        df.to_csv(directory + '/matrix-todos.csv', index=False)"
   ]
  },
  {
   "cell_type": "code",
   "execution_count": 48,
   "metadata": {},
   "outputs": [
    {
     "name": "stderr",
     "output_type": "stream",
     "text": [
      "/Users/rs116474/anaconda3/lib/python3.6/site-packages/ipykernel_launcher.py:16: FutureWarning: currently extract(expand=None) means expand=False (return Index/Series/DataFrame) but in a future version of pandas this will be changed to expand=True (return DataFrame)\n",
      "  app.launch_new_instance()\n"
     ]
    }
   ],
   "source": [
    "concatenate('../data/matrix-geral')"
   ]
  },
  {
   "cell_type": "code",
   "execution_count": 49,
   "metadata": {
    "collapsed": true
   },
   "outputs": [],
   "source": [
    "df = pd.read_csv(\"../data/matrix-geral/matrix-todos.csv\")"
   ]
  }
 ],
 "metadata": {
  "kernelspec": {
   "display_name": "Python 3",
   "language": "python",
   "name": "python3"
  },
  "language_info": {
   "codemirror_mode": {
    "name": "ipython",
    "version": 3
   },
   "file_extension": ".py",
   "mimetype": "text/x-python",
   "name": "python",
   "nbconvert_exporter": "python",
   "pygments_lexer": "ipython3",
   "version": "3.6.3"
  }
 },
 "nbformat": 4,
 "nbformat_minor": 2
}
